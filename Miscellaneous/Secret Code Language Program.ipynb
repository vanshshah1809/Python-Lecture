{
 "cells": [
  {
   "cell_type": "code",
   "execution_count": null,
   "id": "35d85a0f-3286-4f56-8074-62918a224e20",
   "metadata": {},
   "outputs": [],
   "source": [
    "print(\"Press 1 for Coding\")\n",
    "print(\"Press 2 for Decoding\")\n",
    "\n",
    "a = int(input(\"Enter Your Choice =\"))\n",
    "\n",
    "if a == 1:\n",
    "    coding()\n",
    "elif a == 2:\n",
    "    decoding()\n",
    "else:\n",
    "    print(\"Invalid\")"
   ]
  },
  {
   "cell_type": "code",
   "execution_count": 32,
   "id": "9e3c0b60-3e9a-42b3-81cd-603e7276b7a0",
   "metadata": {},
   "outputs": [
    {
     "ename": "NameError",
     "evalue": "name 'words' is not defined",
     "output_type": "error",
     "traceback": [
      "\u001b[1;31m---------------------------------------------------------------------------\u001b[0m",
      "\u001b[1;31mNameError\u001b[0m                                 Traceback (most recent call last)",
      "Cell \u001b[1;32mIn[32], line 9\u001b[0m\n\u001b[0;32m      7\u001b[0m             newcode \u001b[38;5;241m=\u001b[39m r1 \u001b[38;5;241m+\u001b[39m word[\u001b[38;5;241m1\u001b[39m:] \u001b[38;5;241m+\u001b[39m word[\u001b[38;5;241m0\u001b[39m] \u001b[38;5;241m+\u001b[39m r2\n\u001b[0;32m      8\u001b[0m             \u001b[38;5;28mprint\u001b[39m(word)\n\u001b[1;32m----> 9\u001b[0m \u001b[43mcoding\u001b[49m\u001b[43m(\u001b[49m\u001b[43m)\u001b[49m\n",
      "Cell \u001b[1;32mIn[32], line 3\u001b[0m, in \u001b[0;36mcoding\u001b[1;34m()\u001b[0m\n\u001b[0;32m      1\u001b[0m \u001b[38;5;28;01mdef\u001b[39;00m \u001b[38;5;21mcoding\u001b[39m():\n\u001b[0;32m      2\u001b[0m     code \u001b[38;5;241m=\u001b[39m \u001b[38;5;124m\"\u001b[39m\u001b[38;5;124mHello my name is vansh\u001b[39m\u001b[38;5;124m\"\u001b[39m\n\u001b[1;32m----> 3\u001b[0m     \u001b[38;5;28;01mfor\u001b[39;00m word \u001b[38;5;129;01min\u001b[39;00m \u001b[43mwords\u001b[49m:\n\u001b[0;32m      4\u001b[0m         \u001b[38;5;28;01mif\u001b[39;00m \u001b[38;5;28mlen\u001b[39m(code) \u001b[38;5;241m>\u001b[39m\u001b[38;5;241m=\u001b[39m \u001b[38;5;241m3\u001b[39m:\n\u001b[0;32m      5\u001b[0m             r1 \u001b[38;5;241m=\u001b[39m \u001b[38;5;124m\"\u001b[39m\u001b[38;5;124mgdz\u001b[39m\u001b[38;5;124m\"\u001b[39m\n",
      "\u001b[1;31mNameError\u001b[0m: name 'words' is not defined"
     ]
    }
   ],
   "source": [
    "def coding():\n",
    "    code = \"Hello my name is vansh\"\n",
    "    for word in words:\n",
    "        if len(code) >= 3:\n",
    "            r1 = \"gdz\"\n",
    "            r2 = \"ikw\"\n",
    "            newcode = r1 + word[1:] + word[0] + r2\n",
    "            print(word)\n",
    "coding()"
   ]
  },
  {
   "cell_type": "code",
   "execution_count": null,
   "id": "c6207c37-36f3-4fb1-bc9a-cda899ada875",
   "metadata": {},
   "outputs": [],
   "source": [
    "def decoding():\n",
    "    print(\"Decoding\")"
   ]
  }
 ],
 "metadata": {
  "kernelspec": {
   "display_name": "Python 3 (ipykernel)",
   "language": "python",
   "name": "python3"
  },
  "language_info": {
   "codemirror_mode": {
    "name": "ipython",
    "version": 3
   },
   "file_extension": ".py",
   "mimetype": "text/x-python",
   "name": "python",
   "nbconvert_exporter": "python",
   "pygments_lexer": "ipython3",
   "version": "3.11.4"
  }
 },
 "nbformat": 4,
 "nbformat_minor": 5
}
