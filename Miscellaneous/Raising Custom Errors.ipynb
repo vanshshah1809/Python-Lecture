{
 "cells": [
  {
   "cell_type": "code",
   "execution_count": 15,
   "id": "b0202d59-2de6-4393-8c86-ee9579fcd455",
   "metadata": {},
   "outputs": [
    {
     "name": "stdin",
     "output_type": "stream",
     "text": [
      "Enter Your Username :  vansh\n",
      "Enter Your Password :  7990639489\n"
     ]
    },
    {
     "ename": "ValueError",
     "evalue": "Invalid username or password",
     "output_type": "error",
     "traceback": [
      "\u001b[1;31m---------------------------------------------------------------------------\u001b[0m",
      "\u001b[1;31mValueError\u001b[0m                                Traceback (most recent call last)",
      "Cell \u001b[1;32mIn[15], line 10\u001b[0m\n\u001b[0;32m      8\u001b[0m     \u001b[38;5;28mprint\u001b[39m(\u001b[38;5;124m\"\u001b[39m\u001b[38;5;124mWelcome!\u001b[39m\u001b[38;5;124m\"\u001b[39m)\n\u001b[0;32m      9\u001b[0m \u001b[38;5;28;01melse\u001b[39;00m:\n\u001b[1;32m---> 10\u001b[0m     \u001b[38;5;28;01mraise\u001b[39;00m \u001b[38;5;167;01mValueError\u001b[39;00m(\u001b[38;5;124m\"\u001b[39m\u001b[38;5;124mInvalid username or password\u001b[39m\u001b[38;5;124m\"\u001b[39m)\n",
      "\u001b[1;31mValueError\u001b[0m: Invalid username or password"
     ]
    }
   ],
   "source": [
    "username = \"shahvansh18\"\n",
    "password = \"7990639489\"\n",
    "\n",
    "a = input(\"Enter Your Username : \")\n",
    "b = input(\"Enter Your Password : \")\n",
    "\n",
    "if a == username and b == password:\n",
    "    print(\"Welcome!\")\n",
    "else:\n",
    "    raise ValueError(\"Invalid username or password\")"
   ]
  }
 ],
 "metadata": {
  "kernelspec": {
   "display_name": "Python 3 (ipykernel)",
   "language": "python",
   "name": "python3"
  },
  "language_info": {
   "codemirror_mode": {
    "name": "ipython",
    "version": 3
   },
   "file_extension": ".py",
   "mimetype": "text/x-python",
   "name": "python",
   "nbconvert_exporter": "python",
   "pygments_lexer": "ipython3",
   "version": "3.11.4"
  }
 },
 "nbformat": 4,
 "nbformat_minor": 5
}
