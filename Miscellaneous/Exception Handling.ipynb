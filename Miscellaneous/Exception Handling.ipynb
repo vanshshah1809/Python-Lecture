{
 "cells": [
  {
   "cell_type": "markdown",
   "id": "3bd9a885-03fc-44a9-8cda-c33e40b221b9",
   "metadata": {},
   "source": [
    "# Exception Handling"
   ]
  },
  {
   "cell_type": "code",
   "execution_count": 17,
   "id": "7caa5987-d3ce-4087-8e41-afc60e4d1f83",
   "metadata": {},
   "outputs": [
    {
     "name": "stdin",
     "output_type": "stream",
     "text": [
      "Enter any number world\n"
     ]
    },
    {
     "name": "stdout",
     "output_type": "stream",
     "text": [
      "Invalid number\n"
     ]
    }
   ],
   "source": [
    "try:\n",
    "    a = int(input(\"Enter any number\"))\n",
    "    b = int(input(\"Enter any number\"))\n",
    "    c = a+b\n",
    "    print(c)\n",
    "except:\n",
    "    print(\"Invalid number\")"
   ]
  },
  {
   "cell_type": "code",
   "execution_count": 32,
   "id": "5a75770a-5873-41e4-99cf-5829030c5319",
   "metadata": {},
   "outputs": [
    {
     "name": "stdin",
     "output_type": "stream",
     "text": [
      "First Number : 10.5\n"
     ]
    },
    {
     "name": "stdout",
     "output_type": "stream",
     "text": [
      "invalid literal for int() with base 10: '10.5'\n"
     ]
    }
   ],
   "source": [
    "try:    \n",
    "    num1 = int(input(\"First Number :\"))\n",
    "    num2 = int(input(\"Second Number :\"))\n",
    "    add = num1 + num2\n",
    "    print(add)\n",
    "except Exception as e:\n",
    "    print(e)"
   ]
  },
  {
   "cell_type": "code",
   "execution_count": null,
   "id": "523163e4-b1fd-40ae-9f66-b9bd66adfa9a",
   "metadata": {},
   "outputs": [],
   "source": []
  }
 ],
 "metadata": {
  "kernelspec": {
   "display_name": "Python 3 (ipykernel)",
   "language": "python",
   "name": "python3"
  },
  "language_info": {
   "codemirror_mode": {
    "name": "ipython",
    "version": 3
   },
   "file_extension": ".py",
   "mimetype": "text/x-python",
   "name": "python",
   "nbconvert_exporter": "python",
   "pygments_lexer": "ipython3",
   "version": "3.11.4"
  }
 },
 "nbformat": 4,
 "nbformat_minor": 5
}
